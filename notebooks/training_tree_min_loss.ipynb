{
 "cells": [
  {
   "cell_type": "markdown",
   "metadata": {},
   "source": [
    "## Training results\n",
    "#### This notebook contains visualization of learning curves of encoder-decoder model with multiple segmentation heads with simple weighted_ce_loss (losses.TreeMinLoss) Original implementation of loss: [TreeMinLoss](https://github.com/lingorX/HieraSeg/blob/cc3c1cfbabe3cc2af620e0193a245822cca8a841/Pytorch/mmseg/models/losses/hiera_loss.py).\n",
    "Li et al. (2022) Deep Hierarchical Semantic Segmentation\n",
    "\n",
    "Configuration for the model is stored in configs/config.yaml"
   ]
  },
  {
   "cell_type": "markdown",
   "metadata": {},
   "source": [
    "### Input batch visualization with mask levels"
   ]
  },
  {
   "cell_type": "markdown",
   "metadata": {},
   "source": [
    "<div>\n",
    "<img src=\"img/tree_min_loss/batch_sample_0.png\" width=\"500\"/>\n",
    "</div>"
   ]
  },
  {
   "cell_type": "markdown",
   "metadata": {},
   "source": [
    "### Model models/encskipdec.py Parameters:\n",
    "```\n",
    "===============================================================================================\n",
    "Layer (type:depth-idx)                        Output Shape              Param #\n",
    "===============================================================================================\n",
    "HieraSegV2         [1, 2, 224, 224]          --\n",
    "├─Sequential: 1-1                             --                        --\n",
    "│    └─Conv2d: 2-1                            [1, 64, 112, 112]         9,408\n",
    "│    └─BatchNorm2d: 2-2                       [1, 64, 112, 112]         128\n",
    "│    └─ReLU: 2-3                              [1, 64, 112, 112]         --\n",
    "│    └─MaxPool2d: 2-4                         [1, 64, 56, 56]           --\n",
    "│    └─Sequential: 2-5                        [1, 256, 56, 56]          --\n",
    "│    │    └─Bottleneck: 3-1                   [1, 256, 56, 56]          75,008\n",
    "│    │    └─Bottleneck: 3-2                   [1, 256, 56, 56]          70,400\n",
    "│    │    └─Bottleneck: 3-3                   [1, 256, 56, 56]          70,400\n",
    "│    └─Sequential: 2-6                        [1, 512, 28, 28]          --\n",
    "│    │    └─Bottleneck: 3-4                   [1, 512, 28, 28]          379,392\n",
    "│    │    └─Bottleneck: 3-5                   [1, 512, 28, 28]          280,064\n",
    "│    │    └─Bottleneck: 3-6                   [1, 512, 28, 28]          280,064\n",
    "│    │    └─Bottleneck: 3-7                   [1, 512, 28, 28]          280,064\n",
    "│    └─Sequential: 2-7                        [1, 1024, 14, 14]         --\n",
    "│    │    └─Bottleneck: 3-8                   [1, 1024, 14, 14]         1,512,448\n",
    "│    │    └─Bottleneck: 3-9                   [1, 1024, 14, 14]         1,117,184\n",
    "│    │    └─Bottleneck: 3-10                  [1, 1024, 14, 14]         1,117,184\n",
    "│    │    └─Bottleneck: 3-11                  [1, 1024, 14, 14]         1,117,184\n",
    "│    │    └─Bottleneck: 3-12                  [1, 1024, 14, 14]         1,117,184\n",
    "│    │    └─Bottleneck: 3-13                  [1, 1024, 14, 14]         1,117,184\n",
    "│    └─Sequential: 2-8                        [1, 2048, 7, 7]           --\n",
    "│    │    └─Bottleneck: 3-14                  [1, 2048, 7, 7]           6,039,552\n",
    "│    │    └─Bottleneck: 3-15                  [1, 2048, 7, 7]           4,462,592\n",
    "│    │    └─Bottleneck: 3-16                  [1, 2048, 7, 7]           4,462,592\n",
    "├─ModuleList: 1-2                             --                        --\n",
    "│    └─DecoderBlock: 2-9                      [1, 256, 7, 7]            --\n",
    "│    │    └─Conv2d: 3-17                      [1, 256, 7, 7]            4,718,848\n",
    "│    │    └─BatchNorm2d: 3-18                 [1, 256, 7, 7]            512\n",
    "│    │    └─ReLU: 3-19                        [1, 256, 7, 7]            --\n",
    "│    │    └─Conv2d: 3-20                      [1, 256, 7, 7]            590,080\n",
    "│    │    └─BatchNorm2d: 3-21                 [1, 256, 7, 7]            512\n",
    "│    │    └─ReLU: 3-22                        [1, 256, 7, 7]            --\n",
    "│    └─DecoderBlock: 2-10                     [1, 256, 14, 14]          --\n",
    "│    │    └─Conv2d: 3-23                      [1, 256, 14, 14]          2,949,376\n",
    "│    │    └─BatchNorm2d: 3-24                 [1, 256, 14, 14]          512\n",
    "│    │    └─ReLU: 3-25                        [1, 256, 14, 14]          --\n",
    "│    │    └─Conv2d: 3-26                      [1, 256, 14, 14]          590,080\n",
    "│    │    └─BatchNorm2d: 3-27                 [1, 256, 14, 14]          512\n",
    "│    │    └─ReLU: 3-28                        [1, 256, 14, 14]          --\n",
    "│    └─DecoderBlock: 2-11                     [1, 128, 28, 28]          --\n",
    "│    │    └─Conv2d: 3-29                      [1, 128, 28, 28]          884,864\n",
    "│    │    └─BatchNorm2d: 3-30                 [1, 128, 28, 28]          256\n",
    "│    │    └─ReLU: 3-31                        [1, 128, 28, 28]          --\n",
    "│    │    └─Conv2d: 3-32                      [1, 128, 28, 28]          147,584\n",
    "│    │    └─BatchNorm2d: 3-33                 [1, 128, 28, 28]          256\n",
    "│    │    └─ReLU: 3-34                        [1, 128, 28, 28]          --\n",
    "│    └─DecoderBlock: 2-12                     [1, 64, 56, 56]           --\n",
    "│    │    └─Conv2d: 3-35                      [1, 64, 56, 56]           221,248\n",
    "│    │    └─BatchNorm2d: 3-36                 [1, 64, 56, 56]           128\n",
    "│    │    └─ReLU: 3-37                        [1, 64, 56, 56]           --\n",
    "│    │    └─Conv2d: 3-38                      [1, 64, 56, 56]           36,928\n",
    "│    │    └─BatchNorm2d: 3-39                 [1, 64, 56, 56]           128\n",
    "│    │    └─ReLU: 3-40                        [1, 64, 56, 56]           --\n",
    "├─Conv2d: 1-3                                 [1, 7, 56, 56]            455\n",
    "├─ModuleList: 1-4                             --                        --\n",
    "│    └─DecoderBlock: 2-13                     [1, 256, 7, 7]            --\n",
    "│    │    └─Conv2d: 3-41                      [1, 256, 7, 7]            4,718,848\n",
    "│    │    └─BatchNorm2d: 3-42                 [1, 256, 7, 7]            512\n",
    "│    │    └─ReLU: 3-43                        [1, 256, 7, 7]            --\n",
    "│    │    └─Conv2d: 3-44                      [1, 256, 7, 7]            590,080\n",
    "│    │    └─BatchNorm2d: 3-45                 [1, 256, 7, 7]            512\n",
    "│    │    └─ReLU: 3-46                        [1, 256, 7, 7]            --\n",
    "│    └─DecoderBlock: 2-14                     [1, 128, 14, 14]          --\n",
    "│    │    └─Conv2d: 3-47                      [1, 128, 14, 14]          1,474,688\n",
    "│    │    └─BatchNorm2d: 3-48                 [1, 128, 14, 14]          256\n",
    "│    │    └─ReLU: 3-49                        [1, 128, 14, 14]          --\n",
    "│    │    └─Conv2d: 3-50                      [1, 128, 14, 14]          147,584\n",
    "│    │    └─BatchNorm2d: 3-51                 [1, 128, 14, 14]          256\n",
    "│    │    └─ReLU: 3-52                        [1, 128, 14, 14]          --\n",
    "│    └─DecoderBlock: 2-15                     [1, 64, 28, 28]           --\n",
    "│    │    └─Conv2d: 3-53                      [1, 64, 28, 28]           368,704\n",
    "│    │    └─BatchNorm2d: 3-54                 [1, 64, 28, 28]           128\n",
    "│    │    └─ReLU: 3-55                        [1, 64, 28, 28]           --\n",
    "│    │    └─Conv2d: 3-56                      [1, 64, 28, 28]           36,928\n",
    "│    │    └─BatchNorm2d: 3-57                 [1, 64, 28, 28]           128\n",
    "│    │    └─ReLU: 3-58                        [1, 64, 28, 28]           --\n",
    "├─Conv2d: 1-5                                 [1, 3, 28, 28]            195\n",
    "├─ModuleList: 1-6                             --                        --\n",
    "│    └─DecoderBlock: 2-16                     [1, 256, 7, 7]            --\n",
    "│    │    └─Conv2d: 3-59                      [1, 256, 7, 7]            4,718,848\n",
    "│    │    └─BatchNorm2d: 3-60                 [1, 256, 7, 7]            512\n",
    "│    │    └─ReLU: 3-61                        [1, 256, 7, 7]            --\n",
    "│    │    └─Conv2d: 3-62                      [1, 256, 7, 7]            590,080\n",
    "│    │    └─BatchNorm2d: 3-63                 [1, 256, 7, 7]            512\n",
    "│    │    └─ReLU: 3-64                        [1, 256, 7, 7]            --\n",
    "│    └─DecoderBlock: 2-17                     [1, 128, 14, 14]          --\n",
    "│    │    └─Conv2d: 3-65                      [1, 128, 14, 14]          1,474,688\n",
    "│    │    └─BatchNorm2d: 3-66                 [1, 128, 14, 14]          256\n",
    "│    │    └─ReLU: 3-67                        [1, 128, 14, 14]          --\n",
    "│    │    └─Conv2d: 3-68                      [1, 128, 14, 14]          147,584\n",
    "│    │    └─BatchNorm2d: 3-69                 [1, 128, 14, 14]          256\n",
    "│    │    └─ReLU: 3-70                        [1, 128, 14, 14]          --\n",
    "├─Conv2d: 1-7                                 [1, 2, 14, 14]            258\n",
    "===============================================================================================\n",
    "Total params: 47,922,124\n",
    "Trainable params: 47,922,124\n",
    "Non-trainable params: 0\n",
    "Total mult-adds (G): 8.14\n",
    "===============================================================================================\n",
    "Input size (MB): 0.60\n",
    "Forward/backward pass size (MB): 193.68\n",
    "Params size (MB): 191.69\n",
    "Estimated Total Size (MB): 385.97\n",
    "===============================================================================================\n",
    "```"
   ]
  },
  {
   "cell_type": "markdown",
   "metadata": {},
   "source": [
    "### Optimization:\n",
    "#### Training / val curves"
   ]
  },
  {
   "cell_type": "markdown",
   "metadata": {},
   "source": [
    "<div>\n",
    "<img src=\"img/tree_min_loss/train_curves.png\" width=\"500\"/>\n",
    "</div>"
   ]
  },
  {
   "cell_type": "markdown",
   "metadata": {},
   "source": [
    "<div>\n",
    "<img src=\"img/tree_min_loss/val_curves.png\" width=\"500\"/>\n",
    "</div>"
   ]
  },
  {
   "cell_type": "markdown",
   "metadata": {},
   "source": [
    "### For models/encskipdec.py holdout test set performance reached:\n",
    "##### mIoU Level 1 (body): 0.6294 \\n\n",
    "##### mIoU Level 2 (upper/lower body): 0.5189 \\n\n",
    "##### mIoU Level 3 (detailed parts): 0.4050 \\n"
   ]
  },
  {
   "cell_type": "markdown",
   "metadata": {},
   "source": [
    "### Here are the examples of predictions:"
   ]
  },
  {
   "cell_type": "markdown",
   "metadata": {},
   "source": [
    "<div>\n",
    "<img src=\"img/tree_min_loss/prediction_0.png\" width=\"500\"/>\n",
    "</div>"
   ]
  },
  {
   "cell_type": "markdown",
   "metadata": {},
   "source": [
    "<div>\n",
    "<img src=\"img/tree_min_loss/prediction_4.png\" width=\"500\"/>\n",
    "</div>"
   ]
  },
  {
   "cell_type": "code",
   "execution_count": null,
   "metadata": {},
   "outputs": [],
   "source": []
  }
 ],
 "metadata": {
  "kernelspec": {
   "display_name": "Python 3 (ipykernel)",
   "language": "python",
   "name": "python3"
  },
  "language_info": {
   "codemirror_mode": {
    "name": "ipython",
    "version": 3
   },
   "file_extension": ".py",
   "mimetype": "text/x-python",
   "name": "python",
   "nbconvert_exporter": "python",
   "pygments_lexer": "ipython3",
   "version": "3.10.13"
  }
 },
 "nbformat": 4,
 "nbformat_minor": 4
}
